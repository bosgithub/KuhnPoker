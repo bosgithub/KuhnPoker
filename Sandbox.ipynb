{
 "cells": [
  {
   "cell_type": "markdown",
   "metadata": {},
   "source": [
    "### Notes\n",
    "\n",
    "Action users take give insight into what their cards may be\n",
    "\n"
   ]
  },
  {
   "cell_type": "code",
   "execution_count": 1,
   "metadata": {},
   "outputs": [
    {
     "name": "stdout",
     "output_type": "stream",
     "text": [
      "Populating the interactive namespace from numpy and matplotlib\n"
     ]
    }
   ],
   "source": [
    "%pylab inline\n",
    "%load_ext autoreload\n",
    "%autoreload 2"
   ]
  },
  {
   "cell_type": "code",
   "execution_count": 2,
   "metadata": {},
   "outputs": [],
   "source": [
    "import os\n",
    "import numpy as np\n",
    "import random\n",
    "np.set_printoptions(suppress=True)"
   ]
  },
  {
   "cell_type": "markdown",
   "metadata": {},
   "source": [
    "search sorted tells us where this random should go to keep the cumsum of strategies sorted. essentially a random way to get a value with rr"
   ]
  },
  {
   "cell_type": "code",
   "execution_count": 13,
   "metadata": {},
   "outputs": [
    {
     "data": {
      "text/plain": [
       "0"
      ]
     },
     "execution_count": 13,
     "metadata": {},
     "output_type": "execute_result"
    }
   ],
   "source": [
    "getAction(getStrategy())"
   ]
  },
  {
   "cell_type": "code",
   "execution_count": 25,
   "metadata": {},
   "outputs": [
    {
     "data": {
      "text/plain": [
       "[<matplotlib.lines.Line2D at 0x7a6ca90>]"
      ]
     },
     "execution_count": 25,
     "metadata": {},
     "output_type": "execute_result"
    },
    {
     "data": {
      "image/png": "[encoded data removed]",
      "text/plain": [
       "<Figure size 432x288 with 1 Axes>"
      ]
     },
     "metadata": {},
     "output_type": "display_data"
    }
   ],
   "source": [
    "a = [getAction(getStrategy()) for _ in range(100)]\n",
    "plot(sorted(a))"
   ]
  },
  {
   "cell_type": "markdown",
   "metadata": {},
   "source": [
    "Shows how each strategy goes about 1/3 "
   ]
  },
  {
   "cell_type": "markdown",
   "metadata": {},
   "source": [
    "rough idea of variance of moves"
   ]
  },
  {
   "cell_type": "code",
   "execution_count": 3,
   "metadata": {},
   "outputs": [],
   "source": [
    "ROCK, PAPER, SCISSORS = 0,1,2\n",
    "NUM_ACTIONS = 3\n",
    "#oppStrategy = np.array([0.4, 0.3, 0.3])\n",
    "\n",
    "def value(p1, p2):\n",
    "    if p1 == p2:\n",
    "        return 0\n",
    "    if p1 == ROCK and p2 == SCISSORS:\n",
    "        return 1\n",
    "    elif p1 == SCISSORS and p2 == PAPER:\n",
    "        return 1\n",
    "    elif p1 == PAPER and p2 == ROCK:\n",
    "        return 1\n",
    "    else:\n",
    "        return -1"
   ]
  },
  {
   "cell_type": "code",
   "execution_count": 4,
   "metadata": {},
   "outputs": [],
   "source": [
    "def normalize(strategy):\n",
    "    strategy = np.copy(strategy)\n",
    "    normalizingSum = np.sum(strategy)\n",
    "    if normalizingSum > 0:\n",
    "        strategy /= normalizingSum\n",
    "    else:\n",
    "        strategy = np.ones(strategy.shape[0]) / strategy.shape[0]   \n",
    "    return strategy\n",
    "\n",
    "def getStrategy(regretSum):\n",
    "    return normalize(np.maximum(regretSum, 0))\n",
    "\n",
    "def getAverageStrategy(strategySum):     \n",
    "    return normalize(strategySum)\n",
    "\n",
    "def getAction(strategy):\n",
    "    strategy = strategy / np.sum(strategy)\n",
    "    return np.searchsorted(np.cumsum(strategy), random.random())"
   ]
  },
  {
   "cell_type": "code",
   "execution_count": 5,
   "metadata": {},
   "outputs": [],
   "source": [
    "def innertrain(regretSum, strategySum, oppStrategy):\n",
    "    # accumulate the current strategy based on regret\n",
    "    strategy = getStrategy(regretSum)\n",
    "    strategySum += strategy\n",
    "\n",
    "    # select my action and opponent action\n",
    "    myAction = getAction(strategy)\n",
    "    otherAction = getAction(oppStrategy)\n",
    "\n",
    "    # For R P S\n",
    "    actionUtility = np.zeros(NUM_ACTIONS)\n",
    "    actionUtility[otherAction] = 0\n",
    "    actionUtility[(otherAction + 1) % NUM_ACTIONS] = 1\n",
    "    actionUtility[(otherAction - 1) % NUM_ACTIONS] = -1    \n",
    "    return regretSum, strategySum"
   ]
  },
  {
   "cell_type": "code",
   "execution_count": 6,
   "metadata": {},
   "outputs": [
    {
     "data": {
      "text/plain": [
       "(array([0.33333333, 0.33333333, 0.33333333]),\n",
       " array([0.33333333, 0.33333333, 0.33333333]))"
      ]
     },
     "execution_count": 6,
     "metadata": {},
     "output_type": "execute_result"
    }
   ],
   "source": [
    "def train(iterations):\n",
    "    regretSum = np.zeros(NUM_ACTIONS)\n",
    "    strategySum = np.zeros(NUM_ACTIONS)\n",
    "    #oppStrategy = np.zeros(NUM_ACTIONS)\n",
    "    oppStrategy = np.array([0.4, 0.3, 0.3])\n",
    "    \n",
    "    for i in range(iterations):\n",
    "        regretSum, strategySum = innertrain(regretSum, strategySum, oppStrategy)\n",
    "        \n",
    "    return strategySum\n",
    "        \n",
    "def train2p(iterations):\n",
    "    regretSumP1 = np.zeros(NUM_ACTIONS)\n",
    "    strategySumP1 = np.zeros(NUM_ACTIONS)\n",
    "    \n",
    "    regretSumP2 = np.zeros(NUM_ACTIONS)\n",
    "    strategySumP2 = np.zeros(NUM_ACTIONS)\n",
    "    \n",
    "    for i in range(iterations):\n",
    "        # train p1\n",
    "        oppStrategy = normalize(strategySumP2)\n",
    "        regretSump1, strategySump1 = innertrain(regretSumP1, strategySumP1, oppStrategy)\n",
    "        \n",
    "        # train p2\n",
    "        oppStrategy = normalize(strategySumP1)\n",
    "        regretSumP2, strategySumP1 = innertrain(regretSumP2, strategySumP2, oppStrategy)\n",
    "        \n",
    "    return strategySumP1, strategySumP2\n",
    "\n",
    "s1, s2 = train2p(1000)\n",
    "normalize(s1), normalize(s2)"
   ]
  },
  {
   "cell_type": "code",
   "execution_count": 7,
   "metadata": {},
   "outputs": [
    {
     "data": {
      "text/plain": [
       "array([0.33333333, 0.33333333, 0.33333333])"
      ]
     },
     "execution_count": 7,
     "metadata": {},
     "output_type": "execute_result"
    }
   ],
   "source": [
    "strategySum = train(100000)\n",
    "getAverageStrategy(strategySum)"
   ]
  },
  {
   "cell_type": "code",
   "execution_count": 8,
   "metadata": {},
   "outputs": [
    {
     "data": {
      "text/plain": [
       "(array([0.33333333, 0.33333333, 0.33333333]),\n",
       " array([0.33333333, 0.33333333, 0.33333333]))"
      ]
     },
     "execution_count": 8,
     "metadata": {},
     "output_type": "execute_result"
    }
   ],
   "source": [
    "strategy, oppStrategy = normalize(s1), normalize(s2)\n",
    "strategy, oppStrategy"
   ]
  },
  {
   "cell_type": "code",
   "execution_count": 9,
   "metadata": {},
   "outputs": [
    {
     "data": {
      "text/plain": [
       "([<matplotlib.lines.Line2D at 0x7757588>], 0.725, 1.0)"
      ]
     },
     "execution_count": 9,
     "metadata": {},
     "output_type": "execute_result"
    },
    {
     "data": {
      "image/png": "[encoded data removed]",
      "text/plain": [
       "<Figure size 432x288 with 1 Axes>"
      ]
     },
     "metadata": {},
     "output_type": "display_data"
    }
   ],
   "source": [
    "#strategy = getAverageStrategy(strategySum)\n",
    "#print(strategy)\n",
    "\n",
    "vvv = []\n",
    "for j in range(200):\n",
    "    vv = 0\n",
    "    for i in range(100):\n",
    "        #strategy = getStrategy()\n",
    "        #strategy = np.array([0, 1, 0])  # Exploit opponent by always playing paper\n",
    "        # Best we can do is get mean value around 10\n",
    "        #strategy = getAverageStrategy()\n",
    "        myAction = getAction(strategy)\n",
    "        otherAction = getAction(oppStrategy)\n",
    "        vv += value(myAction, otherAction)\n",
    "    vvv.append(vv)\n",
    "\n",
    "plot(sorted(vvv)), np.mean(vvv), np.median(vvv)\n",
    "\n",
    "#print('if we play 100 times, for a dollar each, I expect to be up: {} dollars'.format(np.mean(vvv)))"
   ]
  },
  {
   "cell_type": "code",
   "execution_count": 14,
   "metadata": {},
   "outputs": [
    {
     "data": {
      "image/png": "[encoded data removed]",
      "text/plain": [
       "<Figure size 432x288 with 1 Axes>"
      ]
     },
     "metadata": {},
     "output_type": "display_data"
    }
   ],
   "source": [
    "strategy = getAverageStrategy(strategySum)\n",
    "for j in range(5):\n",
    "    a = [getAction(getStrategy(strategy)) for _ in range(100)]\n",
    "    plot(sorted(a))"
   ]
  }
 ],
 "metadata": {
  "kernelspec": {
   "display_name": "Python 3",
   "language": "python",
   "name": "python3"
  },
  "language_info": {
   "codemirror_mode": {
    "name": "ipython",
    "version": 3
   },
   "file_extension": ".py",
   "mimetype": "text/x-python",
   "name": "python",
   "nbconvert_exporter": "python",
   "pygments_lexer": "ipython3",
   "version": "3.6.3"
  }
 },
 "nbformat": 4,
 "nbformat_minor": 2
}
